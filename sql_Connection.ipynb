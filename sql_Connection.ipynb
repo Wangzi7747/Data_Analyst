{
 "metadata": {
  "language_info": {
   "codemirror_mode": {
    "name": "ipython",
    "version": 3
   },
   "file_extension": ".py",
   "mimetype": "text/x-python",
   "name": "python",
   "nbconvert_exporter": "python",
   "pygments_lexer": "ipython3",
   "version": "3.7.6-final"
  },
  "orig_nbformat": 2,
  "kernelspec": {
   "name": "python3",
   "display_name": "Python 3"
  }
 },
 "nbformat": 4,
 "nbformat_minor": 2,
 "cells": [
  {
   "cell_type": "code",
   "execution_count": 1,
   "metadata": {},
   "outputs": [],
   "source": [
    "import pyodbc"
   ]
  },
  {
   "cell_type": "code",
   "execution_count": 7,
   "metadata": {},
   "outputs": [],
   "source": [
    "conn_str = (\n",
    "    r'DRIVER={SQL Server};'\n",
    "    r'SERVER=edc-azeunt012;'\n",
    "    r'DATABASE=Datalake;'\n",
    "    r'Trusted_Connection=yes;'\n",
    ")\n",
    "cnxn = pyodbc.connect(conn_str)"
   ]
  },
  {
   "cell_type": "code",
   "execution_count": 9,
   "metadata": {},
   "outputs": [
    {
     "output_type": "execute_result",
     "data": {
      "text/plain": [
       "<pyodbc.Cursor at 0x6620720>"
      ]
     },
     "metadata": {},
     "execution_count": 9
    }
   ],
   "source": [
    "cursor=cnxn.cursor()\n",
    "cursor.execute(\n",
    "    'SELECT TOP (10) [Style],[ConditionRecordNumber] FROM [DataLake].[AFS].[Costing]')"
   ]
  },
  {
   "cell_type": "code",
   "execution_count": 10,
   "metadata": {},
   "outputs": [
    {
     "output_type": "stream",
     "name": "stdout",
     "text": [
      "('010CA1O303', '0000644589')\n('010CA1O303', '0000644589')\n('010CA1O303', '0000644589')\n('010CA1O303', '0000644589')\n('010CA1O303', '0000644589')\n('010CA1O303', '0000644589')\n('010CA1O303', '0000644589')\n('010CA1O303', '0000644589')\n('010CA1O303', '0000644589')\n('010CA1O303', '0000644589')\n"
     ]
    }
   ],
   "source": [
    "for row in cursor:\n",
    "    print(row)"
   ]
  },
  {
   "cell_type": "code",
   "execution_count": 15,
   "metadata": {},
   "outputs": [
    {
     "output_type": "stream",
     "name": "stdout",
     "text": [
      "('FL_A', )\n('FL_B', )\n('L1_A', )\n('L1_B', )\n('L1_C', )\n('L1XA', )\n('L1XB', )\n('L1XC', )\n('L2_A', )\n('L2_B', )\n"
     ]
    }
   ],
   "source": [
    "conn_GOT = (\n",
    "    r'DRIVER={SQL Server};'\n",
    "    r'SERVER=EDC-DERANT466\\GOT;'\n",
    "    r'DATABASE=PROD;'\n",
    "    r'Trusted_Connection=yes;'\n",
    ")\n",
    "cnxn = pyodbc.connect(conn_GOT)\n",
    "cursor=cnxn.cursor()\n",
    "cursor.execute(\n",
    "    'SELECT TOP (10) [AFSDrop]FROM [PROD].[got].[AFSDrop]')\n",
    "\n",
    "for row in cursor:\n",
    "    print(row)"
   ]
  },
  {
   "cell_type": "code",
   "execution_count": null,
   "metadata": {},
   "outputs": [],
   "source": [
    "conn = pyodbc.connect('DRIVER={ODBC Driver 17 for SQL Server};SERVER=EDC-DERANT466\\GOT;DATABASE=;UID=user;PWD=password')"
   ]
  }
 ]
}